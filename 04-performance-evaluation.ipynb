{
 "cells": [
  {
   "cell_type": "markdown",
   "id": "827974ce",
   "metadata": {},
   "source": [
    "# 04 — Performance Evaluation\n",
    "Compare detection lead time, false positives, and robustness across events."
   ]
  },
  {
   "cell_type": "code",
   "execution_count": null,
   "id": "f59e32a9",
   "metadata": {},
   "outputs": [],
   "source": [
    "import pandas as pd\n",
    "from pathlib import Path\n",
    "from src.backtesting import compute_lead_time\n",
    "RES = Path('../results/model_outputs')\n",
    "# Placeholder: load your signal series and known crash dates, then compute lead times.\n",
    "# signal_series should be a binary Series indexed by date.\n",
    "# crash_dates = [pd.Timestamp('2000-03-10'), pd.Timestamp('2008-09-15')]\n",
    "# lead_df = compute_lead_time(signal_series, crash_dates, lookahead_days=60)\n",
    "# lead_df\n",
    "print(\"Add your signals and crash dates to evaluate lead times.\")\n"
   ]
  }
 ],
 "metadata": {},
 "nbformat": 4,
 "nbformat_minor": 5
}
