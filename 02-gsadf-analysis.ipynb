{
 "cells": [
  {
   "cell_type": "markdown",
   "id": "3dd0140b",
   "metadata": {},
   "source": [
    "# 02 — GSADF Analysis\n",
    "Compute GSADF statistics and derive bubble periods (Phillips, Shi & Yu, 2015)."
   ]
  },
  {
   "cell_type": "code",
   "execution_count": null,
   "id": "ee215539",
   "metadata": {},
   "outputs": [],
   "source": [
    "import pandas as pd\n",
    "from pathlib import Path\n",
    "from src.gsadf import run_gsadf\n",
    "PROC = Path('../data/processed')\n",
    "RES = Path('../results/model_outputs'); RES.mkdir(parents=True, exist_ok=True)\n",
    "\n",
    "spx = pd.read_csv(PROC / 'sp500_features.csv', index_col=0, parse_dates=True)\n",
    "btc = pd.read_csv(PROC / 'btc_features.csv', index_col=0, parse_dates=True)\n",
    "\n",
    "spx_res = run_gsadf(spx['price'])\n",
    "btc_res = run_gsadf(btc['price'])\n",
    "\n",
    "# Save placeholder outputs\n",
    "pd.DataFrame({'asset': ['SPX'], 'sup_adf': [spx_res.sup_adf], 'crit_95':[spx_res.critical_95]}).to_csv(RES/'gsadf_spx.csv', index=False)\n",
    "pd.DataFrame({'asset': ['BTC'], 'sup_adf': [btc_res.sup_adf], 'crit_95':[btc_res.critical_95]}).to_csv(RES/'gsadf_btc.csv', index=False)\n",
    "\n",
    "spx_res, btc_res\n"
   ]
  },
  {
   "cell_type": "markdown",
   "id": "44461586",
   "metadata": {},
   "source": [
    "> TODO: Replace the placeholder GSADF with a full implementation (recursive right‑tailed ADF, bootstrap critical values, bubble dating)."
   ]
  }
 ],
 "metadata": {},
 "nbformat": 4,
 "nbformat_minor": 5
}
