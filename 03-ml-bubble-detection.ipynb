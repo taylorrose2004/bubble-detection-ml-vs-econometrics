{
 "cells": [
  {
   "cell_type": "markdown",
   "id": "6c716991",
   "metadata": {},
   "source": [
    "# 03 — ML Bubble Detection\n",
    "Train a Random Forest (and optional XGBoost) to classify bubble vs non‑bubble periods."
   ]
  },
  {
   "cell_type": "code",
   "execution_count": null,
   "id": "e7d80f56",
   "metadata": {},
   "outputs": [],
   "source": [
    "import pandas as pd\n",
    "from pathlib import Path\n",
    "from src.ml_models import fit_random_forest, evaluate_classifier, save_model\n",
    "from src.backtesting import label_from_bubble_periods\n",
    "PROC = Path('../data/processed')\n",
    "RES = Path('../results/model_outputs'); RES.mkdir(parents=True, exist_ok=True)\n",
    "\n",
    "# Load features (SPX example)\n",
    "spx = pd.read_csv(PROC / 'sp500_features.csv', index_col=0, parse_dates=True)\n",
    "\n",
    "# Placeholder bubble periods (replace with GSADF output)\n",
    "bubble_periods = [(spx.index[100], spx.index[200])]\n",
    "y = label_from_bubble_periods(spx.index, bubble_periods)\n",
    "\n",
    "# Features and split\n",
    "X = spx[['log_ret','vol_21','sma_ratio_20_100']].dropna()\n",
    "y = y.reindex(X.index).fillna(0).astype(int)\n",
    "\n",
    "split = int(len(X)*0.7)\n",
    "X_train, X_test = X.iloc[:split], X.iloc[split:]\n",
    "y_train, y_test = y.iloc[:split], y.iloc[split:]\n",
    "\n",
    "model = fit_random_forest(X_train, y_train)\n",
    "metrics = evaluate_classifier(model, X_test, y_test)\n",
    "save_model(model, str(RES / 'random_forest_spx.pkl'))\n",
    "\n",
    "metrics\n"
   ]
  },
  {
   "cell_type": "markdown",
   "id": "f7e5fd99",
   "metadata": {},
   "source": [
    "> Optional: add XGBoost model and time‑series cross‑validation with expanding windows."
   ]
  }
 ],
 "metadata": {},
 "nbformat": 4,
 "nbformat_minor": 5
}
