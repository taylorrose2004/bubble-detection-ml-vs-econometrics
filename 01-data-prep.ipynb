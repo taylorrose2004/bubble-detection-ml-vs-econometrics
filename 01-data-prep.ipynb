{
 "cells": [
  {
   "cell_type": "markdown",
   "id": "11e15d19",
   "metadata": {},
   "source": [
    "# 01 — Data Prep\n",
    "\n",
    "This notebook loads raw price & macro data, cleans it, and builds features.\n",
    "\n",
    "*If you don't have real CSVs yet, synthetic samples are used so the pipeline runs.*"
   ]
  },
  {
   "cell_type": "code",
   "execution_count": null,
   "id": "8ab4b655",
   "metadata": {},
   "outputs": [],
   "source": [
    "import pandas as pd\n",
    "import numpy as np\n",
    "from pathlib import Path\n",
    "from src.feature_engineering import build_features\n",
    "\n",
    "RAW = Path('../data/raw')\n",
    "PROC = Path('../data/processed')\n",
    "\n",
    "def load_price_csv(name):\n",
    "    df = pd.read_csv(RAW / name)\n",
    "    df['date'] = pd.to_datetime(df['date'])\n",
    "    df = df.set_index('date').sort_index()\n",
    "    return df['close']\n",
    "\n",
    "# Load (replace with your real files)\n",
    "spx = load_price_csv('sp500.csv')      # expected columns: date, close\n",
    "btc = load_price_csv('btc_usd.csv')    # expected columns: date, close\n",
    "\n",
    "# Optional: macro placeholders (align on index when you have real macro data)\n",
    "macro = pd.DataFrame(index=spx.index)\n",
    "macro['policy_rate'] = 0.02  # placeholder constant\n",
    "\n",
    "# Build features for S&P 500\n",
    "spx_feat = build_features(spx, macro=None)\n",
    "btc_feat = build_features(btc, macro=None)\n",
    "\n",
    "PROC.mkdir(parents=True, exist_ok=True)\n",
    "spx_feat.to_csv(PROC / 'sp500_features.csv')\n",
    "btc_feat.to_csv(PROC / 'btc_features.csv')\n",
    "\n",
    "spx_feat.head(), btc_feat.head()\n"
   ]
  },
  {
   "cell_type": "markdown",
   "id": "4fbec530",
   "metadata": {},
   "source": [
    "**Next:** open `02-gsadf-analysis.ipynb` to compute GSADF statistics and bubble periods."
   ]
  }
 ],
 "metadata": {},
 "nbformat": 4,
 "nbformat_minor": 5
}
