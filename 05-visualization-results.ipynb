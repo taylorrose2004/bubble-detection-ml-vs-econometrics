{
 "cells": [
  {
   "cell_type": "markdown",
   "id": "931c257a",
   "metadata": {},
   "source": [
    "# 05 — Visualization of Results\n",
    "Create publication‑quality charts for README and report."
   ]
  },
  {
   "cell_type": "code",
   "execution_count": null,
   "id": "24f5d233",
   "metadata": {},
   "outputs": [],
   "source": [
    "import pandas as pd\n",
    "import matplotlib.pyplot as plt\n",
    "from pathlib import Path\n",
    "\n",
    "CHARTS = Path('../results/charts'); CHARTS.mkdir(parents=True, exist_ok=True)\n",
    "# Example placeholder: create and save a simple chart\n",
    "s = pd.Series(range(100))\n",
    "ax = s.plot(title='Example Chart (replace with your results)')\n",
    "fig = ax.get_figure()\n",
    "fig.savefig(CHARTS / 'example_chart.png', dpi=150, bbox_inches='tight')\n",
    "plt.close(fig)\n",
    "print('Saved results/charts/example_chart.png')\n"
   ]
  }
 ],
 "metadata": {},
 "nbformat": 4,
 "nbformat_minor": 5
}
import pandas as pd
import matplotlib.pyplot as plt
from pathlib import Path

CHARTS = Path("../results/charts")
CHARTS.mkdir(parents=True, exist_ok=True)

# Example hero: simple growing series (replace later with your real price + bubble shading)
s = pd.Series(range(250)).rolling(7).mean()

ax = s.plot(title="Bubble Detection Project — Hero Chart")
ax.set_xlabel("Time")
ax.set_ylabel("Index Level")
fig = ax.get_figure()
fig.savefig(CHARTS / "hero.png", dpi=180, bbox_inches="tight")
plt.close(fig)

print("Saved: results/charts/hero.png")
